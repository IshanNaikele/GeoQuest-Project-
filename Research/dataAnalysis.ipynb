{
 "cells": [
  {
   "cell_type": "code",
   "execution_count": 19,
   "metadata": {},
   "outputs": [],
   "source": [
    "import pandas as pd \n",
    "import numpy as np    \n",
    "import seaborn as sns \n",
    "import matplotlib.pyplot as plt"
   ]
  },
  {
   "cell_type": "code",
   "execution_count": 20,
   "metadata": {},
   "outputs": [],
   "source": [
    "countries = pd.read_csv(r'D:\\Ishan\\GeoQuest-Project-\\Data\\new_countries_data.csv', encoding='ISO-8859-1')\n"
   ]
  },
  {
   "cell_type": "code",
   "execution_count": 21,
   "metadata": {},
   "outputs": [
    {
     "data": {
      "text/html": [
       "<div>\n",
       "<style scoped>\n",
       "    .dataframe tbody tr th:only-of-type {\n",
       "        vertical-align: middle;\n",
       "    }\n",
       "\n",
       "    .dataframe tbody tr th {\n",
       "        vertical-align: top;\n",
       "    }\n",
       "\n",
       "    .dataframe thead th {\n",
       "        text-align: right;\n",
       "    }\n",
       "</style>\n",
       "<table border=\"1\" class=\"dataframe\">\n",
       "  <thead>\n",
       "    <tr style=\"text-align: right;\">\n",
       "      <th></th>\n",
       "      <th>Country</th>\n",
       "      <th>Landmarks</th>\n",
       "      <th>Currency</th>\n",
       "      <th>Continent</th>\n",
       "      <th>Capital</th>\n",
       "    </tr>\n",
       "  </thead>\n",
       "  <tbody>\n",
       "    <tr>\n",
       "      <th>0</th>\n",
       "      <td>South Georgia</td>\n",
       "      <td>Shackleton's Grave</td>\n",
       "      <td>SHP</td>\n",
       "      <td>Antarctic</td>\n",
       "      <td>King Edward Point</td>\n",
       "    </tr>\n",
       "    <tr>\n",
       "      <th>1</th>\n",
       "      <td>Grenada</td>\n",
       "      <td>Grand Anse Beach</td>\n",
       "      <td>XCD</td>\n",
       "      <td>Americas</td>\n",
       "      <td>St. George's</td>\n",
       "    </tr>\n",
       "    <tr>\n",
       "      <th>2</th>\n",
       "      <td>Switzerland</td>\n",
       "      <td>Matterhorn</td>\n",
       "      <td>CHF</td>\n",
       "      <td>Europe</td>\n",
       "      <td>Bern</td>\n",
       "    </tr>\n",
       "    <tr>\n",
       "      <th>3</th>\n",
       "      <td>Sierra Leone</td>\n",
       "      <td>Tokeh Beach</td>\n",
       "      <td>SLL</td>\n",
       "      <td>Africa</td>\n",
       "      <td>Freetown</td>\n",
       "    </tr>\n",
       "    <tr>\n",
       "      <th>4</th>\n",
       "      <td>Hungary</td>\n",
       "      <td>Buda Castle</td>\n",
       "      <td>HUF</td>\n",
       "      <td>Europe</td>\n",
       "      <td>Budapest</td>\n",
       "    </tr>\n",
       "  </tbody>\n",
       "</table>\n",
       "</div>"
      ],
      "text/plain": [
       "         Country             Landmarks Currency  Continent            Capital\n",
       "0  South Georgia  Shackleton's Grave        SHP  Antarctic  King Edward Point\n",
       "1        Grenada    Grand Anse Beach        XCD   Americas       St. George's\n",
       "2    Switzerland          Matterhorn        CHF     Europe               Bern\n",
       "3   Sierra Leone         Tokeh Beach        SLL     Africa           Freetown\n",
       "4        Hungary         Buda Castle        HUF     Europe           Budapest"
      ]
     },
     "execution_count": 21,
     "metadata": {},
     "output_type": "execute_result"
    }
   ],
   "source": [
    "countries.head()"
   ]
  },
  {
   "cell_type": "code",
   "execution_count": 22,
   "metadata": {},
   "outputs": [
    {
     "data": {
      "text/html": [
       "<div>\n",
       "<style scoped>\n",
       "    .dataframe tbody tr th:only-of-type {\n",
       "        vertical-align: middle;\n",
       "    }\n",
       "\n",
       "    .dataframe tbody tr th {\n",
       "        vertical-align: top;\n",
       "    }\n",
       "\n",
       "    .dataframe thead th {\n",
       "        text-align: right;\n",
       "    }\n",
       "</style>\n",
       "<table border=\"1\" class=\"dataframe\">\n",
       "  <thead>\n",
       "    <tr style=\"text-align: right;\">\n",
       "      <th></th>\n",
       "      <th>Country</th>\n",
       "      <th>Landmarks</th>\n",
       "      <th>Currency</th>\n",
       "      <th>Continent</th>\n",
       "      <th>Capital</th>\n",
       "    </tr>\n",
       "  </thead>\n",
       "  <tbody>\n",
       "    <tr>\n",
       "      <th>count</th>\n",
       "      <td>250</td>\n",
       "      <td>250</td>\n",
       "      <td>247</td>\n",
       "      <td>250</td>\n",
       "      <td>246</td>\n",
       "    </tr>\n",
       "    <tr>\n",
       "      <th>unique</th>\n",
       "      <td>250</td>\n",
       "      <td>248</td>\n",
       "      <td>164</td>\n",
       "      <td>6</td>\n",
       "      <td>245</td>\n",
       "    </tr>\n",
       "    <tr>\n",
       "      <th>top</th>\n",
       "      <td>South Georgia</td>\n",
       "      <td>Victoria Falls</td>\n",
       "      <td>EUR</td>\n",
       "      <td>Africa</td>\n",
       "      <td>Kingston</td>\n",
       "    </tr>\n",
       "    <tr>\n",
       "      <th>freq</th>\n",
       "      <td>1</td>\n",
       "      <td>2</td>\n",
       "      <td>36</td>\n",
       "      <td>59</td>\n",
       "      <td>2</td>\n",
       "    </tr>\n",
       "  </tbody>\n",
       "</table>\n",
       "</div>"
      ],
      "text/plain": [
       "              Country         Landmarks Currency Continent   Capital\n",
       "count             250               250      247       250       246\n",
       "unique            250               248      164         6       245\n",
       "top     South Georgia  Victoria Falls        EUR    Africa  Kingston\n",
       "freq                1                 2       36        59         2"
      ]
     },
     "execution_count": 22,
     "metadata": {},
     "output_type": "execute_result"
    }
   ],
   "source": [
    "countries.describe()"
   ]
  },
  {
   "cell_type": "code",
   "execution_count": 23,
   "metadata": {},
   "outputs": [
    {
     "data": {
      "text/plain": [
       "Country      0\n",
       "Landmarks    0\n",
       "Currency     3\n",
       "Continent    0\n",
       "Capital      4\n",
       "dtype: int64"
      ]
     },
     "execution_count": 23,
     "metadata": {},
     "output_type": "execute_result"
    }
   ],
   "source": [
    "countries.isnull().sum()"
   ]
  },
  {
   "cell_type": "code",
   "execution_count": 26,
   "metadata": {},
   "outputs": [
    {
     "data": {
      "text/html": [
       "<div>\n",
       "<style scoped>\n",
       "    .dataframe tbody tr th:only-of-type {\n",
       "        vertical-align: middle;\n",
       "    }\n",
       "\n",
       "    .dataframe tbody tr th {\n",
       "        vertical-align: top;\n",
       "    }\n",
       "\n",
       "    .dataframe thead th {\n",
       "        text-align: right;\n",
       "    }\n",
       "</style>\n",
       "<table border=\"1\" class=\"dataframe\">\n",
       "  <thead>\n",
       "    <tr style=\"text-align: right;\">\n",
       "      <th></th>\n",
       "      <th>Country</th>\n",
       "      <th>Landmarks</th>\n",
       "      <th>Currency</th>\n",
       "      <th>Continent</th>\n",
       "      <th>Capital</th>\n",
       "    </tr>\n",
       "  </thead>\n",
       "  <tbody>\n",
       "    <tr>\n",
       "      <th>65</th>\n",
       "      <td>Antarctica</td>\n",
       "      <td>McMurdo Station</td>\n",
       "      <td>NaN</td>\n",
       "      <td>Antarctic</td>\n",
       "      <td>NaN</td>\n",
       "    </tr>\n",
       "    <tr>\n",
       "      <th>81</th>\n",
       "      <td>Bouvet Island</td>\n",
       "      <td>Bouvet Island Glacier</td>\n",
       "      <td>NaN</td>\n",
       "      <td>Antarctic</td>\n",
       "      <td>NaN</td>\n",
       "    </tr>\n",
       "    <tr>\n",
       "      <th>159</th>\n",
       "      <td>Heard Island and McDonald Islands</td>\n",
       "      <td>Mawson Peak</td>\n",
       "      <td>NaN</td>\n",
       "      <td>Antarctic</td>\n",
       "      <td>NaN</td>\n",
       "    </tr>\n",
       "  </tbody>\n",
       "</table>\n",
       "</div>"
      ],
      "text/plain": [
       "                               Country                Landmarks Currency  \\\n",
       "65                          Antarctica        McMurdo Station        NaN   \n",
       "81                       Bouvet Island  Bouvet Island Glacier        NaN   \n",
       "159  Heard Island and McDonald Islands            Mawson Peak        NaN   \n",
       "\n",
       "     Continent Capital  \n",
       "65   Antarctic     NaN  \n",
       "81   Antarctic     NaN  \n",
       "159  Antarctic     NaN  "
      ]
     },
     "execution_count": 26,
     "metadata": {},
     "output_type": "execute_result"
    }
   ],
   "source": [
    "countries[countries['Currency'].isnull()]"
   ]
  },
  {
   "cell_type": "code",
   "execution_count": 27,
   "metadata": {},
   "outputs": [
    {
     "data": {
      "text/html": [
       "<div>\n",
       "<style scoped>\n",
       "    .dataframe tbody tr th:only-of-type {\n",
       "        vertical-align: middle;\n",
       "    }\n",
       "\n",
       "    .dataframe tbody tr th {\n",
       "        vertical-align: top;\n",
       "    }\n",
       "\n",
       "    .dataframe thead th {\n",
       "        text-align: right;\n",
       "    }\n",
       "</style>\n",
       "<table border=\"1\" class=\"dataframe\">\n",
       "  <thead>\n",
       "    <tr style=\"text-align: right;\">\n",
       "      <th></th>\n",
       "      <th>Country</th>\n",
       "      <th>Landmarks</th>\n",
       "      <th>Currency</th>\n",
       "      <th>Continent</th>\n",
       "      <th>Capital</th>\n",
       "    </tr>\n",
       "  </thead>\n",
       "  <tbody>\n",
       "    <tr>\n",
       "      <th>65</th>\n",
       "      <td>Antarctica</td>\n",
       "      <td>McMurdo Station</td>\n",
       "      <td>NaN</td>\n",
       "      <td>Antarctic</td>\n",
       "      <td>NaN</td>\n",
       "    </tr>\n",
       "    <tr>\n",
       "      <th>81</th>\n",
       "      <td>Bouvet Island</td>\n",
       "      <td>Bouvet Island Glacier</td>\n",
       "      <td>NaN</td>\n",
       "      <td>Antarctic</td>\n",
       "      <td>NaN</td>\n",
       "    </tr>\n",
       "    <tr>\n",
       "      <th>116</th>\n",
       "      <td>Macau</td>\n",
       "      <td>Ruins of St. Pauls</td>\n",
       "      <td>MOP</td>\n",
       "      <td>Asia</td>\n",
       "      <td>NaN</td>\n",
       "    </tr>\n",
       "    <tr>\n",
       "      <th>159</th>\n",
       "      <td>Heard Island and McDonald Islands</td>\n",
       "      <td>Mawson Peak</td>\n",
       "      <td>NaN</td>\n",
       "      <td>Antarctic</td>\n",
       "      <td>NaN</td>\n",
       "    </tr>\n",
       "  </tbody>\n",
       "</table>\n",
       "</div>"
      ],
      "text/plain": [
       "                               Country                Landmarks Currency  \\\n",
       "65                          Antarctica        McMurdo Station        NaN   \n",
       "81                       Bouvet Island  Bouvet Island Glacier        NaN   \n",
       "116                              Macau    Ruins of St. Pauls        MOP   \n",
       "159  Heard Island and McDonald Islands            Mawson Peak        NaN   \n",
       "\n",
       "     Continent Capital  \n",
       "65   Antarctic     NaN  \n",
       "81   Antarctic     NaN  \n",
       "116       Asia     NaN  \n",
       "159  Antarctic     NaN  "
      ]
     },
     "execution_count": 27,
     "metadata": {},
     "output_type": "execute_result"
    }
   ],
   "source": [
    "countries[countries['Capital'].isnull()]"
   ]
  },
  {
   "cell_type": "code",
   "execution_count": 29,
   "metadata": {},
   "outputs": [],
   "source": [
    "countries.dropna(inplace=True)"
   ]
  },
  {
   "cell_type": "code",
   "execution_count": 30,
   "metadata": {},
   "outputs": [
    {
     "data": {
      "text/html": [
       "<div>\n",
       "<style scoped>\n",
       "    .dataframe tbody tr th:only-of-type {\n",
       "        vertical-align: middle;\n",
       "    }\n",
       "\n",
       "    .dataframe tbody tr th {\n",
       "        vertical-align: top;\n",
       "    }\n",
       "\n",
       "    .dataframe thead th {\n",
       "        text-align: right;\n",
       "    }\n",
       "</style>\n",
       "<table border=\"1\" class=\"dataframe\">\n",
       "  <thead>\n",
       "    <tr style=\"text-align: right;\">\n",
       "      <th></th>\n",
       "      <th>Country</th>\n",
       "      <th>Landmarks</th>\n",
       "      <th>Currency</th>\n",
       "      <th>Continent</th>\n",
       "      <th>Capital</th>\n",
       "    </tr>\n",
       "  </thead>\n",
       "  <tbody>\n",
       "    <tr>\n",
       "      <th>count</th>\n",
       "      <td>246</td>\n",
       "      <td>246</td>\n",
       "      <td>246</td>\n",
       "      <td>246</td>\n",
       "      <td>246</td>\n",
       "    </tr>\n",
       "    <tr>\n",
       "      <th>unique</th>\n",
       "      <td>246</td>\n",
       "      <td>244</td>\n",
       "      <td>163</td>\n",
       "      <td>6</td>\n",
       "      <td>245</td>\n",
       "    </tr>\n",
       "    <tr>\n",
       "      <th>top</th>\n",
       "      <td>South Georgia</td>\n",
       "      <td>Victoria Falls</td>\n",
       "      <td>EUR</td>\n",
       "      <td>Africa</td>\n",
       "      <td>Kingston</td>\n",
       "    </tr>\n",
       "    <tr>\n",
       "      <th>freq</th>\n",
       "      <td>1</td>\n",
       "      <td>2</td>\n",
       "      <td>36</td>\n",
       "      <td>59</td>\n",
       "      <td>2</td>\n",
       "    </tr>\n",
       "  </tbody>\n",
       "</table>\n",
       "</div>"
      ],
      "text/plain": [
       "              Country         Landmarks Currency Continent   Capital\n",
       "count             246               246      246       246       246\n",
       "unique            246               244      163         6       245\n",
       "top     South Georgia  Victoria Falls        EUR    Africa  Kingston\n",
       "freq                1                 2       36        59         2"
      ]
     },
     "execution_count": 30,
     "metadata": {},
     "output_type": "execute_result"
    }
   ],
   "source": [
    "countries.describe()"
   ]
  },
  {
   "cell_type": "code",
   "execution_count": null,
   "metadata": {},
   "outputs": [],
   "source": [
    "countries['Landmarks']"
   ]
  },
  {
   "cell_type": "code",
   "execution_count": 43,
   "metadata": {},
   "outputs": [
    {
     "name": "stdout",
     "output_type": "stream",
     "text": [
      "                              Country               Landmarks Currency  \\\n",
      "47                             Zambia        Victoria Falls        ZMW   \n",
      "141                        Guadeloupe  La Soufrière Volcano        EUR   \n",
      "203  Saint Vincent and the Grenadines  La Soufrière Volcano        XCD   \n",
      "238                          Zimbabwe        Victoria Falls        ZWL   \n",
      "\n",
      "    Continent      Capital  \n",
      "47     Africa       Lusaka  \n",
      "141  Americas  Basse-Terre  \n",
      "203  Americas    Kingstown  \n",
      "238    Africa       Harare  \n"
     ]
    }
   ],
   "source": [
    "duplicate_landmarks = countries[countries.duplicated(subset=['Landmarks'], keep=False)]\n",
    "print(duplicate_landmarks)\n",
    "\n"
   ]
  },
  {
   "cell_type": "code",
   "execution_count": 47,
   "metadata": {},
   "outputs": [
    {
     "data": {
      "text/plain": [
       "Currency\n",
       "EUR    36\n",
       "USD    17\n",
       "XCD     8\n",
       "XOF     8\n",
       "XAF     6\n",
       "       ..\n",
       "ZWL     1\n",
       "MNT     1\n",
       "ILS     1\n",
       "NIO     1\n",
       "TWD     1\n",
       "Name: count, Length: 163, dtype: int64"
      ]
     },
     "execution_count": 47,
     "metadata": {},
     "output_type": "execute_result"
    }
   ],
   "source": [
    "countries['Currency'].value_counts() "
   ]
  },
  {
   "cell_type": "code",
   "execution_count": null,
   "metadata": {},
   "outputs": [],
   "source": []
  }
 ],
 "metadata": {
  "kernelspec": {
   "display_name": "my_env",
   "language": "python",
   "name": "python3"
  },
  "language_info": {
   "codemirror_mode": {
    "name": "ipython",
    "version": 3
   },
   "file_extension": ".py",
   "mimetype": "text/x-python",
   "name": "python",
   "nbconvert_exporter": "python",
   "pygments_lexer": "ipython3",
   "version": "3.13.1"
  }
 },
 "nbformat": 4,
 "nbformat_minor": 2
}
